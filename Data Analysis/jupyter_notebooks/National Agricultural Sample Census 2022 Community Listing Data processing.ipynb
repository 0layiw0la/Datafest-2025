{
 "cells": [
  {
   "cell_type": "code",
   "execution_count": null,
   "id": "bb28787f",
   "metadata": {},
   "outputs": [],
   "source": [
    "import pandas as pd\n",
    "import plotly.express as px\n",
    "import warnings\n",
    "warnings.filterwarnings('ignore')\n",
    "\n",
    "df = pd.read_stata(\"../Datasets/Anonymized data/1_Identification_ano.dta\")"
   ]
  },
  {
   "cell_type": "code",
   "execution_count": null,
   "id": "62848030",
   "metadata": {},
   "outputs": [],
   "source": [
    "df.head()"
   ]
  },
  {
   "cell_type": "code",
   "execution_count": null,
   "id": "e669b392",
   "metadata": {},
   "outputs": [],
   "source": [
    "df.groupby('state_id')['COMID'].unique()"
   ]
  },
  {
   "cell_type": "code",
   "execution_count": null,
   "id": "ad2011d2",
   "metadata": {},
   "outputs": [],
   "source": [
    "# Column renaming mapping\n",
    "rename_dict = {\n",
    "    \"state_id\":\"state\",\n",
    "    \"COMID\" : 'comid',\n",
    "    \"c2q4__1\": \"agro_processing\",\n",
    "    \"c2q5__1\": \"milling_facility\",\n",
    "    \"c2q5__2\": \"feed_mill\",\n",
    "    \"c2q5__3\": \"corn_husker\",\n",
    "    \"c2q5__4\": \"cocoa_mill\",\n",
    "    \"c2q5__5\": \"palm_oil_mill\",\n",
    "    \"c2q5__6\": \"rice_husker\",\n",
    "    #\"c2q5__8\": \"crop_conservation_facility\",\n",
    "    \"c2q5__11\": \"crop_processing_facility\",\n",
    "    \"c2q6a\": \"electricity_available\",\n",
    "    \"c2bq1\": \"land_degradation_pct\",\n",
    "    \"c2bq1b\": \"increase_land_degradation\",  #\n",
    "    \"c2bq3a\": \"abandoned_farm_pct\",\n",
    "    \"c2bq4__6\": \"land_issue_soil_erosion\",\n",
    "    \"c2bq4__9\": \"land_issue_poor_roads\",\n",
    "    \"c2bq4__12\": \"land_issue_other\",\n",
    "    \"c2cq2\": \"produce_transport_method\",\n",
    "    \"c2dq1__4\": \"extension_services_present\",\n",
    "    \"c2dq1__8\": \"storage_facility_available\",\n",
    "    \"c2fq1__5\": \"challenge_crop_diseases\",\n",
    "    #\"c2fq1__7\": \"challenge_flood\",\n",
    "    \"c2fq1__9\": \"challenge_animal_damage\",\n",
    "    \"c2fq1__13\": \"sales_difficulties\", #\n",
    "    \"c2fq1__19\" : \"poor_transport\", #\n",
    "    \"c10q3m\": \"main_crop_planted\", #\n",
    "    \n",
    "}\n",
    "\n",
    "# Create new DataFrame with renamed columns only\n",
    "new_df = df[list(rename_dict.keys())].rename(columns=rename_dict)\n"
   ]
  },
  {
   "cell_type": "code",
   "execution_count": null,
   "id": "04bad128",
   "metadata": {},
   "outputs": [],
   "source": [
    "new_df.shape"
   ]
  },
  {
   "cell_type": "code",
   "execution_count": null,
   "id": "74caef4a",
   "metadata": {},
   "outputs": [],
   "source": [
    "new_df.info()"
   ]
  },
  {
   "cell_type": "code",
   "execution_count": null,
   "id": "ba1e96d1",
   "metadata": {},
   "outputs": [],
   "source": [
    "has_nan = []\n",
    "for i in new_df.columns:\n",
    "    if new_df[i].isna().sum() > 0:\n",
    "        has_nan.append(i)\n",
    "        \n",
    "print(len(has_nan),'\\n',has_nan)"
   ]
  },
  {
   "cell_type": "code",
   "execution_count": null,
   "id": "ae8e6293",
   "metadata": {},
   "outputs": [],
   "source": [
    "for i in new_df.columns:\n",
    "    \n",
    "    print(f' {i} : {new_df[i].unique()} \\n')"
   ]
  },
  {
   "cell_type": "markdown",
   "id": "72504c41",
   "metadata": {},
   "source": [
    "# Processing & Storage availabilty"
   ]
  },
  {
   "cell_type": "code",
   "execution_count": null,
   "id": "7ed11050",
   "metadata": {},
   "outputs": [],
   "source": [
    "new_df.to_csv('../Datasets/full_survey.csv')"
   ]
  },
  {
   "cell_type": "code",
   "execution_count": null,
   "id": "14aaf807",
   "metadata": {},
   "outputs": [],
   "source": [
    "import seaborn as sns\n",
    "import matplotlib.pyplot as plt"
   ]
  },
  {
   "cell_type": "code",
   "execution_count": null,
   "id": "79ff6dd1",
   "metadata": {},
   "outputs": [],
   "source": [
    "df_proc = new_df[[\"state\",'comid',\"electricity_available\", \"agro_processing\",\"milling_facility\",\"feed_mill\",\"corn_husker\",\"cocoa_mill\",\"palm_oil_mill\",\n",
    "     \"rice_husker\"]]\n",
    "\n",
    "df_proc.head()"
   ]
  },
  {
   "cell_type": "code",
   "execution_count": null,
   "id": "ef381c75",
   "metadata": {},
   "outputs": [],
   "source": [
    "df_proc.isna().sum()"
   ]
  },
  {
   "cell_type": "code",
   "execution_count": null,
   "id": "06f7dd44",
   "metadata": {},
   "outputs": [],
   "source": [
    "state_counts = (df_proc['state'].value_counts()/(len(df_proc))*100).reset_index()\n",
    "state_counts.columns = ['state', 'count']\n",
    "\n",
    "# Create treemap\n",
    "fig = px.treemap(state_counts, \n",
    "                 path=['state'], \n",
    "                 values='count',\n",
    "                 color='count',\n",
    "                 color_continuous_scale='YlOrRd',\n",
    "                 title='Distribution of States in the Data')\n",
    "\n",
    "fig.show()\n",
    "\n",
    "\n"
   ]
  },
  {
   "cell_type": "code",
   "execution_count": null,
   "id": "54ab59d3",
   "metadata": {},
   "outputs": [],
   "source": [
    "counts = new_df.groupby(['state', 'storage_facility_available']).size().unstack(fill_value=0)\n",
    "\n",
    "\n",
    "counts['total'] = counts.sum(axis=1)\n",
    "counts['yes_pct'] = (counts['Yes'] / counts['total']) * 100\n",
    "counts['no_pct'] = (counts['No'] / counts['total']) * 100\n",
    "\n",
    "counts = counts.reset_index()\n",
    "\n",
    "fig = px.treemap(\n",
    "    counts,\n",
    "    path=['state'],\n",
    "    values='no_pct',\n",
    "    color='no_pct',\n",
    "    color_continuous_scale='YlOrRd',\n",
    "    title='Percentage of Farmers with no acess to storage by State'\n",
    ")\n",
    "\n",
    "fig.update_layout(\n",
    "    margin=dict(t=50,l=50,r=0,b=0),\n",
    "    autosize=False,\n",
    "    width=800,\n",
    "    height=600\n",
    ")\n",
    "fig.show()\n"
   ]
  },
  {
   "cell_type": "code",
   "execution_count": null,
   "id": "33db6d35",
   "metadata": {
    "scrolled": true
   },
   "outputs": [],
   "source": [
    "counts[['state','yes_pct']].sort_values('yes_pct',ascending=False)"
   ]
  },
  {
   "cell_type": "markdown",
   "id": "458c050d",
   "metadata": {},
   "source": [
    "**Storage is a major issue seeing as even Sokoto which has the most farmers reporting yes to access has about 79% saying they dont have acess** "
   ]
  },
  {
   "cell_type": "code",
   "execution_count": null,
   "id": "5ff67f1f",
   "metadata": {},
   "outputs": [],
   "source": [
    "counts = df_proc.groupby(['state', 'agro_processing']).size().unstack(fill_value=0)\n",
    "\n",
    "\n",
    "counts['total'] = counts.sum(axis=1)\n",
    "counts['yes_pct'] = (counts['Yes'] / counts['total']) * 100\n",
    "counts['no_pct'] = (counts['No'] / counts['total']) * 100\n",
    "\n",
    "counts = counts.reset_index()\n",
    "\n",
    "fig = px.treemap(\n",
    "    counts,\n",
    "    path=['state'],\n",
    "    values='no_pct',\n",
    "    color='no_pct',\n",
    "    color_continuous_scale='YlOrRd',\n",
    "    title='Percentage of Farmers with no acess to AgroProcessing by State'\n",
    ")\n",
    "\n",
    "fig.update_layout(\n",
    "    margin=dict(t=50,l=50,r=0,b=0),\n",
    "    autosize=False,\n",
    "    width=800,\n",
    "    height=600\n",
    ")\n",
    "fig.show()\n"
   ]
  },
  {
   "cell_type": "code",
   "execution_count": null,
   "id": "09da38cf",
   "metadata": {},
   "outputs": [],
   "source": [
    "counts.sort_values('no_pct').reset_index()"
   ]
  },
  {
   "cell_type": "code",
   "execution_count": null,
   "id": "00bdd28f",
   "metadata": {},
   "outputs": [],
   "source": [
    "# Sort to get top 5 in each\n",
    "top_yes = counts.sort_values('yes_pct', ascending=False).head(5)\n",
    "top_no = counts.sort_values('no_pct', ascending=False).head(5)\n",
    "\n",
    "import plotly.graph_objects as go\n",
    "\n",
    "fig = go.Figure()\n",
    "\n",
    "\n",
    "fig.add_trace(go.Bar(\n",
    "    x=top_no['state'],\n",
    "    y=top_no['no_pct'],\n",
    "    name='No Acess',\n",
    "    marker_color='red'\n",
    "))\n",
    "\n",
    "fig.update_layout(\n",
    "    barmode='group',\n",
    "    title='Top 5 States with and without acess to Agro Processing facilities',\n",
    "    xaxis_title='State',\n",
    "    yaxis_title='Percentage'\n",
    ")\n",
    "fig.show()\n"
   ]
  },
  {
   "cell_type": "markdown",
   "id": "28bab676",
   "metadata": {},
   "source": [
    "**Note There's a drill down for the report allowing users select a state and see what facilities are available within the state.**\n",
    "\n",
    "For now a national level overview of what facilities are lacking."
   ]
  },
  {
   "cell_type": "code",
   "execution_count": null,
   "id": "89c91270",
   "metadata": {},
   "outputs": [],
   "source": [
    "facilities = ['milling_facility', 'feed_mill', 'corn_husker', 'cocoa_mill', 'palm_oil_mill', 'rice_husker']\n",
    "\n",
    "df_long = df_proc.melt(id_vars='state', value_vars=facilities, var_name='facility', value_name='response')\n",
    "\n",
    "# Count 'No' responses and total responses per facility\n",
    "national_no_pct = (\n",
    "    df_long.groupby(['facility', 'response'])\n",
    "    .size()\n",
    "    .unstack(fill_value=0)\n",
    ")\n",
    "\n",
    "# Calculate percentage of 'No' responses\n",
    "national_no_pct['no_pct'] = (national_no_pct['No'] / (national_no_pct['No'] + national_no_pct['Yes'])) * 100\n",
    "\n",
    "# Reset index for plotting\n",
    "national_no_pct = national_no_pct.reset_index()\n",
    "\n",
    "fig_national = px.bar(\n",
    "    national_no_pct,\n",
    "    x='facility',\n",
    "    y='no_pct',\n",
    "    title='National-Level Average % of \"No\" Responses per Facility',\n",
    "    labels={'no_pct': '% No Responses', 'facility': 'Facility'},\n",
    "    color_discrete_sequence=['red']\n",
    ")\n",
    "fig_national.update_layout(xaxis_tickangle=-45)\n",
    "fig_national.show()\n",
    "\n"
   ]
  },
  {
   "cell_type": "code",
   "execution_count": null,
   "id": "7223bf5f",
   "metadata": {},
   "outputs": [],
   "source": [
    "state_no_pct = (\n",
    "    df_long.groupby(['state', 'facility', 'response'])\n",
    "    .size()\n",
    "    .unstack(fill_value=0)\n",
    ")\n",
    "\n",
    "# Calculate % No per state-facility\n",
    "state_no_pct['no_pct'] = (state_no_pct['No'] / (state_no_pct['No'] + state_no_pct['Yes'])) * 100\n",
    "\n",
    "# Reset index for heatmap\n",
    "state_no_pct = state_no_pct.reset_index()\n"
   ]
  },
  {
   "cell_type": "code",
   "execution_count": null,
   "id": "1671b691",
   "metadata": {},
   "outputs": [],
   "source": [
    "import seaborn as sns\n",
    "heatmap_data = state_no_pct.pivot(index='state', columns='facility', values='no_pct')\n",
    "\n",
    "plt.figure(figsize=(12, 8))\n",
    "sns.heatmap(heatmap_data, cmap='Reds', annot=True, fmt=\".1f\")\n",
    "plt.title('% of \"No\" Responses by State and Facility')\n",
    "plt.ylabel('State')\n",
    "plt.xlabel('Facility')\n",
    "plt.tight_layout()\n",
    "plt.show()\n"
   ]
  },
  {
   "cell_type": "code",
   "execution_count": null,
   "id": "2cb92b41",
   "metadata": {},
   "outputs": [],
   "source": [
    "df_proc['cocoa_mill'].value_counts()"
   ]
  },
  {
   "cell_type": "markdown",
   "id": "7e334463",
   "metadata": {},
   "source": [
    "## Disease and Animal damage"
   ]
  },
  {
   "cell_type": "code",
   "execution_count": null,
   "id": "b074bc96",
   "metadata": {},
   "outputs": [],
   "source": [
    "counts = new_df.groupby(['state', 'challenge_crop_diseases']).size().unstack(fill_value=0)\n",
    "\n",
    "\n",
    "counts['total'] = counts.sum(axis=1)\n",
    "counts['yes_pct'] = (counts['Yes'] / counts['total']) * 100\n",
    "counts['no_pct'] = (counts['No'] / counts['total']) * 100\n",
    "\n",
    "counts = counts.reset_index()\n",
    "\n",
    "fig = px.treemap(\n",
    "    counts,\n",
    "    path=['state'],\n",
    "    values='yes_pct',\n",
    "    color='yes_pct',\n",
    "    color_continuous_scale='YlOrRd',\n",
    "    title='Percentage of Farmers with complaints about crop diseases by State'\n",
    ")\n",
    "\n",
    "fig.update_layout(\n",
    "    margin=dict(t=50,l=50,r=0,b=0),\n",
    "    autosize=False,\n",
    "    width=800,\n",
    "    height=600\n",
    ")\n",
    "fig.show()\n"
   ]
  },
  {
   "cell_type": "code",
   "execution_count": null,
   "id": "cbf7dde1",
   "metadata": {},
   "outputs": [],
   "source": [
    "counts.sort_values(by='yes_pct').reset_index()"
   ]
  },
  {
   "cell_type": "code",
   "execution_count": null,
   "id": "984309cc",
   "metadata": {},
   "outputs": [],
   "source": [
    "counts = new_df.groupby(['state', 'challenge_animal_damage']).size().unstack(fill_value=0)\n",
    "\n",
    "\n",
    "counts['total'] = counts.sum(axis=1)\n",
    "counts['yes_pct'] = (counts['Yes'] / counts['total']) * 100\n",
    "counts['no_pct'] = (counts['No'] / counts['total']) * 100\n",
    "\n",
    "counts = counts.reset_index()\n",
    "\n",
    "fig = px.treemap(\n",
    "    counts,\n",
    "    path=['state'],\n",
    "    values='yes_pct',\n",
    "    color='yes_pct',\n",
    "    color_continuous_scale='YlOrRd',\n",
    "    title='Percentage of Farmers with complaints about animal damage by State'\n",
    ")\n",
    "\n",
    "fig.update_layout(\n",
    "    margin=dict(t=50,l=50,r=0,b=0),\n",
    "    autosize=False,\n",
    "    width=800,\n",
    "    height=600\n",
    ")\n",
    "fig.show()\n"
   ]
  },
  {
   "cell_type": "markdown",
   "id": "63b4665a",
   "metadata": {},
   "source": [
    "# Land quality "
   ]
  },
  {
   "cell_type": "code",
   "execution_count": null,
   "id": "3ee1ec66",
   "metadata": {},
   "outputs": [],
   "source": [
    "subset = land_df\n",
    "    \n",
    "state='nigeria'\n",
    "subset['land_degradation_pct'] = subset['land_degradation_pct'].replace('None (0%)','0%')\n",
    "\n",
    "# Count land degradation categories\n",
    "deg_counts = ((subset['land_degradation_pct'].value_counts()/subset['land_degradation_pct'].shape[0])*100)\n",
    "\n",
    "# Convert to DataFrame for plotting\n",
    "deg_df = deg_counts.reset_index()\n",
    "deg_df.columns = ['land_degradation_pct', 'count']\n",
    "\n",
    "    \n",
    "fig = px.bar(\n",
    "    deg_df,\n",
    "    x='land_degradation_pct',\n",
    "    y='count',\n",
    "    title=f\"Land Degradation Levels in {state.capitalize()}\",\n",
    "    labels={'land_degradation_pct': 'Degradation Level (%)', 'count': 'Number of Responses'},\n",
    "    color='land_degradation_pct',\n",
    "    color_discrete_sequence=px.colors.sequential.YlOrRd\n",
    ")\n",
    "fig.update_layout(xaxis_categoryorder='category ascending')\n",
    "fig.show()"
   ]
  },
  {
   "cell_type": "code",
   "execution_count": null,
   "id": "63d5ed50",
   "metadata": {},
   "outputs": [],
   "source": [
    "land_feats = ['state','land_degradation_pct','abandoned_farm_pct','produce_transport_method']\n",
    "land_df = new_df[land_feats]\n",
    "land_df"
   ]
  },
  {
   "cell_type": "code",
   "execution_count": null,
   "id": "9ee56d0b",
   "metadata": {},
   "outputs": [],
   "source": [
    "degradation_order = ['None (0%)', '1%-25%', '26%-50%', '51%-75%', '76%-100%']\n",
    "category_to_score = {cat: i for i, cat in enumerate(degradation_order)}\n",
    "\n",
    "land_df[\"land_degradation_score\"] = land_df[\"land_degradation_pct\"].map(category_to_score).astype(int)\n",
    "land_df[\"abandoned_farm_score\"] = land_df[\"abandoned_farm_pct\"].map(category_to_score).astype(int)\n",
    "\n",
    "# Group by state to get mean score\n",
    "state_scores = land_df.groupby(\"state\")[[\"land_degradation_score\", \"abandoned_farm_score\"]].mean().reset_index()\n"
   ]
  },
  {
   "cell_type": "code",
   "execution_count": null,
   "id": "a356502e",
   "metadata": {},
   "outputs": [],
   "source": [
    "# Create a treemap instead of choropleth\n",
    "fig = px.treemap(\n",
    "    state_scores,\n",
    "    path=['state'],\n",
    "    values='land_degradation_score',\n",
    "    color='land_degradation_score',\n",
    "    color_continuous_scale='YlOrRd',\n",
    "    title=\"Land Degradation Score by State (Treemap)\",\n",
    "    labels={'land_degradation_score': 'Degradation Score'}\n",
    ")\n",
    "\n",
    "fig.show()"
   ]
  },
  {
   "cell_type": "code",
   "execution_count": null,
   "id": "b7d06d30",
   "metadata": {},
   "outputs": [],
   "source": [
    "subset = land_df\n",
    "subset['land_degradation_pct'] = subset['land_degradation_pct'].replace('None (0%)','0%')\n",
    "\n",
    "# Count land degradation categories\n",
    "deg_counts = ((subset['land_degradation_pct'].value_counts()/subset['land_degradation_pct'].shape[0])*100).sort_index()\n",
    "\n",
    "# Convert to DataFrame for plotting\n",
    "deg_df = deg_counts.reset_index()\n",
    "deg_df.columns = ['land_degradation_pct', 'count']\n",
    "\n",
    "# Plot with Plotly\n",
    "fig = px.bar(\n",
    "    deg_df,\n",
    "    x='land_degradation_pct',\n",
    "    y='count',\n",
    "    title=f\"Land Degradation Levels in Nigeria\",\n",
    "    labels={'land_degradation_pct': 'Degradation Level (%)', 'count': 'Number of Responses'},\n",
    "    color='land_degradation_pct',\n",
    "    color_discrete_sequence=px.colors.sequential.YlOrRd\n",
    ")\n",
    "fig.update_layout(xaxis_categoryorder='category ascending')\n",
    "fig.show()\n"
   ]
  },
  {
   "cell_type": "code",
   "execution_count": null,
   "id": "5ce1e664",
   "metadata": {},
   "outputs": [],
   "source": [
    "count = new_df[\"increase_land_degradation\"].value_counts().sort_values(ascending=False).reset_index()\n",
    "count['count'] = (count['count'] / count['count'].sum()) * 100\n",
    "\n",
    "# Plot with Plotly\n",
    "fig = px.bar(\n",
    "    count,\n",
    "    y = \"increase_land_degradation\",\n",
    "    x = 'count',\n",
    "    title=f\"Land Degradation Increase in Nigeria\",\n",
    "    labels={'increase_land_degradation': ' ', 'count': 'Percentage of response'},\n",
    "    color='increase_land_degradation',\n",
    "    color_discrete_sequence=px.colors.sequential.YlOrRd\n",
    ")\n",
    "\n",
    "fig.show()"
   ]
  },
  {
   "cell_type": "code",
   "execution_count": null,
   "id": "a6e4c9ec",
   "metadata": {
    "scrolled": true
   },
   "outputs": [],
   "source": [
    "import plotly.express as px\n",
    "\n",
    "# Filter by state\n",
    "state_choice = 'TARABA'\n",
    "subset = land_df[land_df['state'] == state_choice]\n",
    "subset['land_degradation_pct'] = subset['land_degradation_pct'].replace('None (0%)','0%')\n",
    "\n",
    "# Count land degradation categories\n",
    "deg_counts = subset['land_degradation_pct'].value_counts().sort_index()\n",
    "\n",
    "# Convert to DataFrame for plotting\n",
    "deg_df = deg_counts.reset_index()\n",
    "deg_df.columns = ['land_degradation_pct', 'count']\n",
    "\n",
    "# Plot with Plotly\n",
    "fig = px.bar(\n",
    "    deg_df,\n",
    "    x='land_degradation_pct',\n",
    "    y='count',\n",
    "    title=f\"Land Degradation Levels in {state_choice}\",\n",
    "    labels={'land_degradation_pct': 'Degradation Level (%)', 'count': 'Number of Responses'},\n",
    "    color='land_degradation_pct',\n",
    "    color_discrete_sequence=px.colors.sequential.YlOrRd\n",
    ")\n",
    "fig.update_layout(xaxis_categoryorder='category ascending')\n",
    "fig.show()\n"
   ]
  },
  {
   "cell_type": "markdown",
   "id": "64880d52",
   "metadata": {},
   "source": [
    "## Land abandonment"
   ]
  },
  {
   "cell_type": "code",
   "execution_count": null,
   "id": "6c0bcbb5",
   "metadata": {},
   "outputs": [],
   "source": [
    "# Create a treemap instead of choropleth\n",
    "fig = px.treemap(\n",
    "    state_scores,\n",
    "    path=['state'],\n",
    "    values='abandoned_farm_score',\n",
    "    color='abandoned_farm_score',\n",
    "    color_continuous_scale='YlOrRd',\n",
    "    title=\"Farm abandonment Score by State (Treemap)\",\n",
    "    labels={'land_degradation_score': 'Degradation Score'}\n",
    ")\n",
    "\n",
    "fig.show()"
   ]
  },
  {
   "cell_type": "code",
   "execution_count": null,
   "id": "7a08f24e",
   "metadata": {},
   "outputs": [],
   "source": [
    "\n",
    "state_choice = 'BORNO'\n",
    "subset = land_df[land_df['state'] == state_choice]\n",
    "\n",
    "subset['abandoned_farm_score'] = subset['abandoned_farm_score'].replace('None (0%)','0%')\n",
    "\n",
    "# Count land degradation categories\n",
    "deg_counts = ((subset['abandoned_farm_score'].value_counts()/subset.shape[0])*100).sort_index()\n",
    "\n",
    "# Convert to DataFrame for plotting\n",
    "deg_df = deg_counts.reset_index()\n",
    "deg_df.columns = ['abandoned_farm_score', 'count']\n",
    "\n",
    "# Plot with Plotly\n",
    "fig = px.bar(\n",
    "    deg_df,\n",
    "    x='abandoned_farm_score',\n",
    "    y='count',\n",
    "    title=f\"Land Degradation Levels in Nigeria\",\n",
    "    labels={'abandoned_farm_score': 'Abandonment level (%)', 'count': 'Number of Responses'},\n",
    "    color='abandoned_farm_score',\n",
    "    color_discrete_sequence=px.colors.sequential.YlOrRd\n",
    ")\n",
    "fig.update_layout(xaxis_categoryorder='category ascending')\n",
    "fig.show()\n"
   ]
  },
  {
   "cell_type": "markdown",
   "id": "348e5d1c",
   "metadata": {},
   "source": [
    "# Transportation methods"
   ]
  },
  {
   "cell_type": "code",
   "execution_count": null,
   "id": "502cda0f",
   "metadata": {},
   "outputs": [],
   "source": [
    "counts = new_df[new_df['state']=='LAGOS']['produce_transport_method'].value_counts().sort_values(ascending=False).reset_index()\n",
    "counts['count'] = (counts['count'] / counts['count'].sum())*100\n",
    "\n",
    "counts"
   ]
  },
  {
   "cell_type": "code",
   "execution_count": null,
   "id": "1a79f074",
   "metadata": {},
   "outputs": [],
   "source": [
    "fig = px.bar(\n",
    "    counts,\n",
    "    y='produce_transport_method',\n",
    "    x='count',\n",
    "    orientation='h',\n",
    "    title=f\"Transport Methods Nigerian Farmers\",\n",
    "    labels={'produce_transport_method': 'Transport Method', 'count': 'Percentage of farmers who use the method'},\n",
    "    color='produce_transport_method',\n",
    "    color_discrete_sequence=px.colors.sequential.YlOrRd\n",
    ")\n",
    "fig.show()\n"
   ]
  },
  {
   "cell_type": "code",
   "execution_count": null,
   "id": "983af994",
   "metadata": {
    "scrolled": true
   },
   "outputs": [],
   "source": [
    "counts = new_df.groupby(['state', 'poor_transport']).size().unstack(fill_value=0)\n",
    "\n",
    "\n",
    "counts['total'] = counts.sum(axis=1)\n",
    "counts['yes_pct'] = (counts['Yes'] / counts['total']) * 100\n",
    "counts['no_pct'] = (counts['No'] / counts['total']) * 100\n",
    "\n",
    "counts = counts.reset_index()\n",
    "\n",
    "fig = px.treemap(\n",
    "    counts,\n",
    "    path=['state'],\n",
    "    values='yes_pct',\n",
    "    color='yes_pct',\n",
    "    color_continuous_scale='YlOrRd',\n",
    "    title='Percentage of Farmers with complaints about poor transport by State'\n",
    ")\n",
    "\n",
    "fig.update_layout(\n",
    "    margin=dict(t=50,l=50,r=0,b=0),\n",
    "    autosize=False,\n",
    "    width=800,\n",
    "    height=600\n",
    ")\n",
    "fig.show()\n"
   ]
  },
  {
   "cell_type": "code",
   "execution_count": null,
   "id": "13d21783",
   "metadata": {},
   "outputs": [],
   "source": [
    "counts.sort_values(by='yes_pct',ascending=False)"
   ]
  },
  {
   "cell_type": "markdown",
   "id": "64d37a3a",
   "metadata": {},
   "source": [
    "# Sales issues"
   ]
  },
  {
   "cell_type": "code",
   "execution_count": null,
   "id": "0196420c",
   "metadata": {},
   "outputs": [],
   "source": [
    "counts = new_df.groupby(['state', 'sales_difficulties']).size().unstack(fill_value=0)\n",
    "\n",
    "\n",
    "counts['total'] = counts.sum(axis=1)\n",
    "counts['yes_pct'] = (counts['Yes'] / counts['total']) * 100\n",
    "counts['no_pct'] = (counts['No'] / counts['total']) * 100\n",
    "\n",
    "counts = counts.reset_index()\n",
    "\n",
    "fig = px.treemap(\n",
    "    counts,\n",
    "    path=['state'],\n",
    "    values='yes_pct',\n",
    "    color='yes_pct',\n",
    "    color_continuous_scale='YlOrRd',\n",
    "    title='Percentage of Farmers with complaints about poor transport by State'\n",
    ")\n",
    "\n",
    "fig.update_layout(\n",
    "    margin=dict(t=50,l=50,r=0,b=0),\n",
    "    autosize=False,\n",
    "    width=800,\n",
    "    height=600\n",
    ")\n",
    "fig.show()\n"
   ]
  },
  {
   "cell_type": "markdown",
   "id": "31dcb00f",
   "metadata": {},
   "source": [
    "# Market Availability"
   ]
  },
  {
   "cell_type": "code",
   "execution_count": null,
   "id": "02b4076f",
   "metadata": {},
   "outputs": [],
   "source": [
    "market_df = pd.read_stata('../Datasets/Anonymized data/4_c2c_Market_Access_ano.dta')\n",
    "rename_dict = {\n",
    "    \"state_id\":\"state\",\n",
    "    \"c2c__id\": \"market_type\",\n",
    "    \"c2cq1a\":\"market_location\",\n",
    "    \"c2cq1b\":\"market_distance\"\n",
    "    \n",
    "}\n",
    "\n",
    "# Create new DataFrame with renamed columns only\n",
    "market_df = market_df[list(rename_dict.keys())].rename(columns=rename_dict)\n",
    "display(market_df)\n",
    "market_df.to_csv(\"../Datasets/market_df.csv\")"
   ]
  },
  {
   "cell_type": "code",
   "execution_count": null,
   "id": "ea0f8242",
   "metadata": {},
   "outputs": [],
   "source": [
    "market_df['state'].value_counts()"
   ]
  },
  {
   "cell_type": "code",
   "execution_count": null,
   "id": "83842c32",
   "metadata": {},
   "outputs": [],
   "source": [
    "market_issues = market_df[market_df['market_location'].isin(['In another LGA'])]\n",
    "state_market_issue_pct = (\n",
    "    (market_issues.groupby('state').size() / market_df.groupby('state').size())*100\n",
    ").reset_index(name='pct_outside_market')\n",
    "\n",
    "# Treemap (or choropleth later)\n",
    "fig = px.treemap(\n",
    "    state_market_issue_pct,\n",
    "    path=['state'],\n",
    "    values='pct_outside_market',\n",
    "    color='pct_outside_market',\n",
    "    color_continuous_scale='Reds',\n",
    "    title='Percentage of Respondents with Market Outside LGA',\n",
    "    labels={'pct_outside_market': 'Percent (%)'}\n",
    ")\n",
    "fig.update_traces(\n",
    "    hovertemplate='<b>%{label}</b><br>Outside Market: %{value:.1f}%<extra></extra>'\n",
    ")\n",
    "\n",
    "fig.show()\n"
   ]
  },
  {
   "cell_type": "code",
   "execution_count": null,
   "id": "d5fd52a3",
   "metadata": {},
   "outputs": [],
   "source": [
    "market_issues = market_df[market_df['market_location'].isin(['In another state'])]\n",
    "state_market_issue_pct = (\n",
    "    (market_issues.groupby('state').size() / market_df.groupby('state').size())*100\n",
    ").reset_index(name='pct_outside_market')\n",
    "\n",
    "# Treemap (or choropleth later)\n",
    "fig = px.treemap(\n",
    "    state_market_issue_pct,\n",
    "    path=['state'],\n",
    "    values='pct_outside_market',\n",
    "    color='pct_outside_market',\n",
    "    color_continuous_scale='Reds',\n",
    "    title='Percentage of Respondents with Market Outside State',\n",
    "    labels={'pct_outside_market': 'Percent (%)'}\n",
    ")\n",
    "fig.update_traces(\n",
    "    hovertemplate='<b>%{label}</b><br>Outside Market: %{value:.1f}%<extra></extra>'\n",
    ")\n",
    "\n",
    "fig.show()\n"
   ]
  },
  {
   "cell_type": "code",
   "execution_count": null,
   "id": "e84aa1cb",
   "metadata": {},
   "outputs": [],
   "source": [
    "counts = market_df['market_location'].value_counts().sort_values(ascending=False).reset_index()\n",
    "counts['count'] = (counts['count'] / counts['count'].sum()) * 100\n",
    "\n",
    "fig = px.bar(\n",
    "    counts,\n",
    "    y='market_location',\n",
    "    x='count',\n",
    "    orientation='h',\n",
    "    title=f\"Market Locations\",\n",
    "    labels={'market_location': 'Market Location', 'count': 'Percentage of markets located within this range'},\n",
    "    color='market_location',\n",
    "    color_discrete_sequence=px.colors.sequential.YlOrRd\n",
    ")\n",
    "fig.show()"
   ]
  },
  {
   "cell_type": "markdown",
   "id": "4bead4bb",
   "metadata": {},
   "source": [
    "# Disasters"
   ]
  },
  {
   "cell_type": "code",
   "execution_count": null,
   "id": "34ecf787",
   "metadata": {
    "scrolled": true
   },
   "outputs": [],
   "source": [
    "disaster_df = pd.read_stata('../Datasets/Anonymized data/7_c4b_Disaster_ano.dta')\n",
    "rename_dict = {\n",
    "    \"state_id\":\"state\",\n",
    "    \"c4b__id\": \"disaster\",\n",
    "    \"c4bq1b\":\"disaster_frequency_3_years\",\n",
    "    \"c4bq2__4\":\"abandoned_area\",\n",
    "    \"c4bq3__2\":\"production_distruption_loss\",\n",
    "    \"c4bq4\":\"loss_severity_economic\",\n",
    "    \"c4bq5__1\":\"land_lost\",\n",
    "    \"c4bq5__2\":\"Crop losses\",\n",
    "    \"c4bq6\":\"severity_of_physical_loss\"\n",
    "}\n",
    "\n",
    "# Create new DataFrame with renamed columns only\n",
    "disaster_df = disaster_df[list(rename_dict.keys())].rename(columns=rename_dict)\n",
    "display(disaster_df)"
   ]
  },
  {
   "cell_type": "code",
   "execution_count": null,
   "id": "e1037695",
   "metadata": {},
   "outputs": [],
   "source": [
    "disaster_df['disaster_frequency_3_years'].mean()"
   ]
  },
  {
   "cell_type": "code",
   "execution_count": null,
   "id": "238723e8",
   "metadata": {},
   "outputs": [],
   "source": [
    "counts = disaster_df.groupby(['disaster'])['disaster_frequency_3_years'].mean().sort_values().reset_index()\n",
    "\n",
    "fig = px.bar(\n",
    "    counts,\n",
    "    y='disaster',\n",
    "    x='disaster_frequency_3_years',\n",
    "    orientation='h',\n",
    "    title=f\"Disasters ranked by frequency (3 years)\",\n",
    "    labels={'disaster_frequency_3_years': 'Disaster Frequency', 'disaster': 'Disaster'},\n",
    "    color='disaster_frequency_3_years',\n",
    "    color_discrete_sequence=px.colors.sequential.YlOrRd\n",
    ")\n",
    "fig.show()\n"
   ]
  },
  {
   "cell_type": "code",
   "execution_count": null,
   "id": "5c076bf7",
   "metadata": {
    "scrolled": true
   },
   "outputs": [],
   "source": [
    "counts = disaster_df.groupby(['state'])['disaster_frequency_3_years'].mean().reset_index()\n",
    "\n",
    "fig = px.treemap(\n",
    "    counts,\n",
    "    path=['state'],\n",
    "    values='disaster_frequency_3_years',\n",
    "    color='disaster_frequency_3_years',\n",
    "    color_continuous_scale='YlOrRd',\n",
    "    title='DIsaster Frequency by State (3 Years)'\n",
    ")\n",
    "\n",
    "fig.update_layout(\n",
    "    margin=dict(t=50,l=50,r=0,b=0),\n",
    "    autosize=False,\n",
    "    width=800,\n",
    "    height=600\n",
    ")\n",
    "fig.show()\n"
   ]
  },
  {
   "cell_type": "code",
   "execution_count": null,
   "id": "ebe99762",
   "metadata": {},
   "outputs": [],
   "source": [
    "abandon_pct = (\n",
    "    disaster_df.groupby('disaster')['abandoned_area']\n",
    "    .value_counts(normalize=True)\n",
    "    .unstack()\n",
    "    .get('Yes', pd.Series(dtype=float)) * 100\n",
    ").sort_values()\n",
    "\n",
    "fig = px.bar(\n",
    "    abandon_pct,\n",
    "    orientation='h',\n",
    "    labels={'value': '% Fled', 'index': 'Disaster'},\n",
    "    title='Disasters Ranked by % of Respondents Who Fled',\n",
    "    color_discrete_sequence=px.colors.sequential.YlOrRd\n",
    ")\n",
    "\n",
    "fig.show()"
   ]
  },
  {
   "cell_type": "code",
   "execution_count": null,
   "id": "10199def",
   "metadata": {},
   "outputs": [],
   "source": [
    "prod_loss_pct = (\n",
    "    disaster_df.groupby('disaster')['production_distruption_loss']\n",
    "    .value_counts(normalize=True)\n",
    "    .unstack()\n",
    "    .get('Yes', pd.Series(dtype=float)) * 100\n",
    ").sort_values()\n",
    "\n",
    "fig = px.bar(\n",
    "    prod_loss_pct,\n",
    "    orientation='h',\n",
    "    labels={'value': '% With Loss', 'index': 'Disaster'},\n",
    "    title='Disasters Ranked by % Reporting Economic Loss due to Production Distruption',\n",
    "    color_discrete_sequence=px.colors.sequential.YlOrRd\n",
    ")\n",
    "\n",
    "fig.show()"
   ]
  },
  {
   "cell_type": "code",
   "execution_count": null,
   "id": "a9cb66a1",
   "metadata": {},
   "outputs": [],
   "source": [
    "# Count responses\n",
    "severity_counts = (\n",
    "    disaster_df\n",
    "    .dropna(subset=['loss_severity_economic'])\n",
    "    .groupby(['disaster', 'loss_severity_economic'])\n",
    "    .size()\n",
    "    .reset_index(name='count')\n",
    ")\n",
    "\n",
    "# Get total per disaster for % calc\n",
    "total_per_disaster = (\n",
    "    severity_counts.groupby('disaster')['count']\n",
    "    .sum()\n",
    "    .reset_index(name='total')\n",
    ")\n",
    "\n",
    "# Merge and compute percentage\n",
    "severity_pct = severity_counts.merge(total_per_disaster, on='disaster')\n",
    "severity_pct['percentage'] = (severity_pct['count'] / severity_pct['total']) * 100\n",
    "\n",
    "# Plot\n",
    "\n",
    "color_map = {\n",
    "    'Small losses': 'yellow',\n",
    "    'Significant losses': 'orange',\n",
    "    'Almost total or total losses': 'red'\n",
    "}\n",
    "\n",
    "\n",
    "fig = px.bar(\n",
    "    severity_pct,\n",
    "    x='disaster',\n",
    "    y='percentage',\n",
    "    color='loss_severity_economic',\n",
    "    barmode='group',\n",
    "    title='Disasters by Economic Loss Severity (%)',\n",
    "    labels={'percentage': 'Percentage'},\n",
    "    color_discrete_map=color_map\n",
    ")\n",
    "fig.show()\n"
   ]
  },
  {
   "cell_type": "code",
   "execution_count": null,
   "id": "65658e19",
   "metadata": {},
   "outputs": [],
   "source": [
    "severity_pct"
   ]
  },
  {
   "cell_type": "code",
   "execution_count": null,
   "id": "8988ee15",
   "metadata": {},
   "outputs": [],
   "source": [
    "crop_loss_disaster_pct = (\n",
    "    disaster_df.groupby('disaster')['Crop losses']\n",
    "    .value_counts(normalize=True)\n",
    "    .unstack()\n",
    "    .get('Yes', pd.Series(dtype=float)) * 100\n",
    ").sort_values()\n",
    "\n",
    "fig = px.bar(\n",
    "    crop_loss_disaster_pct,\n",
    "    orientation='h',\n",
    "    labels={'value': '% Crop Loss', 'index': 'Disaster'},\n",
    "    title='Disasters by % Crop Loss'\n",
    ")\n",
    "\n",
    "fig.show()"
   ]
  },
  {
   "cell_type": "code",
   "execution_count": null,
   "id": "6422f018",
   "metadata": {},
   "outputs": [],
   "source": [
    "crop_loss_disaster_pct.reset_index()"
   ]
  },
  {
   "cell_type": "code",
   "execution_count": null,
   "id": "1a67e999",
   "metadata": {},
   "outputs": [],
   "source": [
    "crop_loss_pct = (\n",
    "    disaster_df.groupby('state')['Crop losses']\n",
    "    .value_counts(normalize=True)\n",
    "    .unstack()\n",
    "    .get('Yes', pd.Series(dtype=float)) * 100\n",
    ").reset_index(name='pct_crop_loss')\n",
    "\n",
    "fig = px.treemap(\n",
    "    crop_loss_pct,\n",
    "    path=['state'],\n",
    "    values='pct_crop_loss',\n",
    "    color='pct_crop_loss',\n",
    "    color_continuous_scale='Reds',\n",
    "    title='States by % Crop Loss Post-Disaster'\n",
    ")\n",
    "fig.show()"
   ]
  }
 ],
 "metadata": {
  "kernelspec": {
   "display_name": "Python 3 (ipykernel)",
   "language": "python",
   "name": "python3"
  },
  "language_info": {
   "codemirror_mode": {
    "name": "ipython",
    "version": 3
   },
   "file_extension": ".py",
   "mimetype": "text/x-python",
   "name": "python",
   "nbconvert_exporter": "python",
   "pygments_lexer": "ipython3",
   "version": "3.10.13"
  }
 },
 "nbformat": 4,
 "nbformat_minor": 5
}
