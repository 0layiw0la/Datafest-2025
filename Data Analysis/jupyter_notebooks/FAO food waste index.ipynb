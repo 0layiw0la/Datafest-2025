{
 "cells": [
  {
   "cell_type": "markdown",
   "id": "6ed8c195",
   "metadata": {},
   "source": [
    "# Summary of finding useful for our goal\n",
    "\n",
    "FIndings: \n",
    "\n",
    "We looked into losses during each activity stage listed and noted most occur during drying post harvest, with shelling/treshing coming next. A good point to note though is that maize which has a higer moisture content than the rest listed has storage when more losses happen.  \n",
    "\n",
    "\n",
    "Assumptions: \n",
    "\n",
    "- Crops are most susceptible to damage during drying which could be due to pests and diseases or simply poor quality of the crops themselves. (consider soil nutrients and land fertility)\n",
    "        \n",
    "- Next is during shelling or treshing. how they are processed after harvest\n",
    "        \n",
    "- An important thing is also the fact maize with the highest water content of the four had storage being second as opposed to last with the other 3. Raising the question of storage facilities for crops with higher moisture content.\n",
    "\n"
   ]
  },
  {
   "cell_type": "code",
   "execution_count": 1,
   "id": "1f14d1b1",
   "metadata": {},
   "outputs": [
    {
     "data": {
      "text/html": [
       "<div>\n",
       "<style scoped>\n",
       "    .dataframe tbody tr th:only-of-type {\n",
       "        vertical-align: middle;\n",
       "    }\n",
       "\n",
       "    .dataframe tbody tr th {\n",
       "        vertical-align: top;\n",
       "    }\n",
       "\n",
       "    .dataframe thead th {\n",
       "        text-align: right;\n",
       "    }\n",
       "</style>\n",
       "<table border=\"1\" class=\"dataframe\">\n",
       "  <thead>\n",
       "    <tr style=\"text-align: right;\">\n",
       "      <th></th>\n",
       "      <th>m49_code</th>\n",
       "      <th>country</th>\n",
       "      <th>region</th>\n",
       "      <th>cpc_code</th>\n",
       "      <th>commodity</th>\n",
       "      <th>year</th>\n",
       "      <th>loss_percentage</th>\n",
       "      <th>loss_percentage_original</th>\n",
       "      <th>loss_quantity</th>\n",
       "      <th>activity</th>\n",
       "      <th>food_supply_stage</th>\n",
       "      <th>treatment</th>\n",
       "      <th>cause_of_loss</th>\n",
       "      <th>sample_size</th>\n",
       "      <th>method_data_collection</th>\n",
       "      <th>reference</th>\n",
       "      <th>url</th>\n",
       "      <th>notes</th>\n",
       "    </tr>\n",
       "  </thead>\n",
       "  <tbody>\n",
       "    <tr>\n",
       "      <th>0</th>\n",
       "      <td>566</td>\n",
       "      <td>Nigeria</td>\n",
       "      <td>NaN</td>\n",
       "      <td>112</td>\n",
       "      <td>Maize (corn)</td>\n",
       "      <td>2021</td>\n",
       "      <td>2.372590</td>\n",
       "      <td>2.372590</td>\n",
       "      <td>NaN</td>\n",
       "      <td>Transportation</td>\n",
       "      <td>Farm</td>\n",
       "      <td>NaN</td>\n",
       "      <td>NaN</td>\n",
       "      <td>NaN</td>\n",
       "      <td>Modelled Estimates</td>\n",
       "      <td>NaN</td>\n",
       "      <td>https://www.aphlis.net/en/data/tables/value-ch...</td>\n",
       "      <td>NaN</td>\n",
       "    </tr>\n",
       "    <tr>\n",
       "      <th>1</th>\n",
       "      <td>566</td>\n",
       "      <td>Nigeria</td>\n",
       "      <td>NaN</td>\n",
       "      <td>112</td>\n",
       "      <td>Maize (corn)</td>\n",
       "      <td>2021</td>\n",
       "      <td>4.585730</td>\n",
       "      <td>4.585730</td>\n",
       "      <td>NaN</td>\n",
       "      <td>Storage</td>\n",
       "      <td>Farm</td>\n",
       "      <td>NaN</td>\n",
       "      <td>NaN</td>\n",
       "      <td>NaN</td>\n",
       "      <td>Modelled Estimates</td>\n",
       "      <td>NaN</td>\n",
       "      <td>https://www.aphlis.net/en/data/tables/value-ch...</td>\n",
       "      <td>NaN</td>\n",
       "    </tr>\n",
       "    <tr>\n",
       "      <th>2</th>\n",
       "      <td>566</td>\n",
       "      <td>Nigeria</td>\n",
       "      <td>NaN</td>\n",
       "      <td>112</td>\n",
       "      <td>Maize (corn)</td>\n",
       "      <td>2021</td>\n",
       "      <td>6.420000</td>\n",
       "      <td>6.420000</td>\n",
       "      <td>NaN</td>\n",
       "      <td>Drying, Harvesting</td>\n",
       "      <td>Harvest</td>\n",
       "      <td>NaN</td>\n",
       "      <td>NaN</td>\n",
       "      <td>NaN</td>\n",
       "      <td>Modelled Estimates</td>\n",
       "      <td>NaN</td>\n",
       "      <td>https://www.aphlis.net/en/data/tables/value-ch...</td>\n",
       "      <td>NaN</td>\n",
       "    </tr>\n",
       "    <tr>\n",
       "      <th>3</th>\n",
       "      <td>566</td>\n",
       "      <td>Nigeria</td>\n",
       "      <td>NaN</td>\n",
       "      <td>112</td>\n",
       "      <td>Maize (corn)</td>\n",
       "      <td>2021</td>\n",
       "      <td>4.000000</td>\n",
       "      <td>4.000000</td>\n",
       "      <td>NaN</td>\n",
       "      <td>Drying</td>\n",
       "      <td>Farm</td>\n",
       "      <td>NaN</td>\n",
       "      <td>NaN</td>\n",
       "      <td>NaN</td>\n",
       "      <td>Modelled Estimates</td>\n",
       "      <td>NaN</td>\n",
       "      <td>https://www.aphlis.net/en/data/tables/value-ch...</td>\n",
       "      <td>NaN</td>\n",
       "    </tr>\n",
       "    <tr>\n",
       "      <th>4</th>\n",
       "      <td>566</td>\n",
       "      <td>Nigeria</td>\n",
       "      <td>NaN</td>\n",
       "      <td>112</td>\n",
       "      <td>Maize (corn)</td>\n",
       "      <td>2021</td>\n",
       "      <td>1.320000</td>\n",
       "      <td>1.320000</td>\n",
       "      <td>NaN</td>\n",
       "      <td>Shelling, Threshing</td>\n",
       "      <td>NaN</td>\n",
       "      <td>NaN</td>\n",
       "      <td>NaN</td>\n",
       "      <td>NaN</td>\n",
       "      <td>Modelled Estimates</td>\n",
       "      <td>NaN</td>\n",
       "      <td>https://www.aphlis.net/en/data/tables/value-ch...</td>\n",
       "      <td>NaN</td>\n",
       "    </tr>\n",
       "    <tr>\n",
       "      <th>5</th>\n",
       "      <td>566</td>\n",
       "      <td>Nigeria</td>\n",
       "      <td>NaN</td>\n",
       "      <td>113</td>\n",
       "      <td>Rice</td>\n",
       "      <td>2021</td>\n",
       "      <td>2.500000</td>\n",
       "      <td>2.500000</td>\n",
       "      <td>NaN</td>\n",
       "      <td>Winnowing</td>\n",
       "      <td>Farm</td>\n",
       "      <td>NaN</td>\n",
       "      <td>NaN</td>\n",
       "      <td>NaN</td>\n",
       "      <td>Modelled Estimates</td>\n",
       "      <td>NaN</td>\n",
       "      <td>https://www.aphlis.net/en/data/tables/value-ch...</td>\n",
       "      <td>NaN</td>\n",
       "    </tr>\n",
       "    <tr>\n",
       "      <th>6</th>\n",
       "      <td>566</td>\n",
       "      <td>Nigeria</td>\n",
       "      <td>NaN</td>\n",
       "      <td>113</td>\n",
       "      <td>Rice</td>\n",
       "      <td>2021</td>\n",
       "      <td>4.403330</td>\n",
       "      <td>4.403330</td>\n",
       "      <td>NaN</td>\n",
       "      <td>Drying, Harvesting</td>\n",
       "      <td>Harvest</td>\n",
       "      <td>NaN</td>\n",
       "      <td>NaN</td>\n",
       "      <td>NaN</td>\n",
       "      <td>Modelled Estimates</td>\n",
       "      <td>NaN</td>\n",
       "      <td>https://www.aphlis.net/en/data/tables/value-ch...</td>\n",
       "      <td>NaN</td>\n",
       "    </tr>\n",
       "    <tr>\n",
       "      <th>7</th>\n",
       "      <td>566</td>\n",
       "      <td>Nigeria</td>\n",
       "      <td>NaN</td>\n",
       "      <td>113</td>\n",
       "      <td>Rice</td>\n",
       "      <td>2021</td>\n",
       "      <td>3.137140</td>\n",
       "      <td>3.137140</td>\n",
       "      <td>NaN</td>\n",
       "      <td>Shelling, Threshing</td>\n",
       "      <td>NaN</td>\n",
       "      <td>NaN</td>\n",
       "      <td>NaN</td>\n",
       "      <td>NaN</td>\n",
       "      <td>Modelled Estimates</td>\n",
       "      <td>NaN</td>\n",
       "      <td>https://www.aphlis.net/en/data/tables/value-ch...</td>\n",
       "      <td>NaN</td>\n",
       "    </tr>\n",
       "    <tr>\n",
       "      <th>8</th>\n",
       "      <td>566</td>\n",
       "      <td>Nigeria</td>\n",
       "      <td>NaN</td>\n",
       "      <td>113</td>\n",
       "      <td>Rice</td>\n",
       "      <td>2021</td>\n",
       "      <td>0.980316</td>\n",
       "      <td>0.980316</td>\n",
       "      <td>NaN</td>\n",
       "      <td>Storage</td>\n",
       "      <td>Farm</td>\n",
       "      <td>NaN</td>\n",
       "      <td>NaN</td>\n",
       "      <td>NaN</td>\n",
       "      <td>Modelled Estimates</td>\n",
       "      <td>NaN</td>\n",
       "      <td>https://www.aphlis.net/en/data/tables/value-ch...</td>\n",
       "      <td>NaN</td>\n",
       "    </tr>\n",
       "    <tr>\n",
       "      <th>9</th>\n",
       "      <td>566</td>\n",
       "      <td>Nigeria</td>\n",
       "      <td>NaN</td>\n",
       "      <td>113</td>\n",
       "      <td>Rice</td>\n",
       "      <td>2021</td>\n",
       "      <td>1.250000</td>\n",
       "      <td>1.250000</td>\n",
       "      <td>NaN</td>\n",
       "      <td>Transportation</td>\n",
       "      <td>Farm</td>\n",
       "      <td>NaN</td>\n",
       "      <td>NaN</td>\n",
       "      <td>NaN</td>\n",
       "      <td>Modelled Estimates</td>\n",
       "      <td>NaN</td>\n",
       "      <td>https://www.aphlis.net/en/data/tables/value-ch...</td>\n",
       "      <td>NaN</td>\n",
       "    </tr>\n",
       "  </tbody>\n",
       "</table>\n",
       "</div>"
      ],
      "text/plain": [
       "   m49_code  country  region  cpc_code     commodity  year  loss_percentage  \\\n",
       "0       566  Nigeria     NaN       112  Maize (corn)  2021         2.372590   \n",
       "1       566  Nigeria     NaN       112  Maize (corn)  2021         4.585730   \n",
       "2       566  Nigeria     NaN       112  Maize (corn)  2021         6.420000   \n",
       "3       566  Nigeria     NaN       112  Maize (corn)  2021         4.000000   \n",
       "4       566  Nigeria     NaN       112  Maize (corn)  2021         1.320000   \n",
       "5       566  Nigeria     NaN       113          Rice  2021         2.500000   \n",
       "6       566  Nigeria     NaN       113          Rice  2021         4.403330   \n",
       "7       566  Nigeria     NaN       113          Rice  2021         3.137140   \n",
       "8       566  Nigeria     NaN       113          Rice  2021         0.980316   \n",
       "9       566  Nigeria     NaN       113          Rice  2021         1.250000   \n",
       "\n",
       "   loss_percentage_original  loss_quantity             activity  \\\n",
       "0                  2.372590            NaN       Transportation   \n",
       "1                  4.585730            NaN              Storage   \n",
       "2                  6.420000            NaN   Drying, Harvesting   \n",
       "3                  4.000000            NaN               Drying   \n",
       "4                  1.320000            NaN  Shelling, Threshing   \n",
       "5                  2.500000            NaN            Winnowing   \n",
       "6                  4.403330            NaN   Drying, Harvesting   \n",
       "7                  3.137140            NaN  Shelling, Threshing   \n",
       "8                  0.980316            NaN              Storage   \n",
       "9                  1.250000            NaN       Transportation   \n",
       "\n",
       "  food_supply_stage  treatment  cause_of_loss  sample_size  \\\n",
       "0              Farm        NaN            NaN          NaN   \n",
       "1              Farm        NaN            NaN          NaN   \n",
       "2           Harvest        NaN            NaN          NaN   \n",
       "3              Farm        NaN            NaN          NaN   \n",
       "4               NaN        NaN            NaN          NaN   \n",
       "5              Farm        NaN            NaN          NaN   \n",
       "6           Harvest        NaN            NaN          NaN   \n",
       "7               NaN        NaN            NaN          NaN   \n",
       "8              Farm        NaN            NaN          NaN   \n",
       "9              Farm        NaN            NaN          NaN   \n",
       "\n",
       "  method_data_collection  reference  \\\n",
       "0     Modelled Estimates        NaN   \n",
       "1     Modelled Estimates        NaN   \n",
       "2     Modelled Estimates        NaN   \n",
       "3     Modelled Estimates        NaN   \n",
       "4     Modelled Estimates        NaN   \n",
       "5     Modelled Estimates        NaN   \n",
       "6     Modelled Estimates        NaN   \n",
       "7     Modelled Estimates        NaN   \n",
       "8     Modelled Estimates        NaN   \n",
       "9     Modelled Estimates        NaN   \n",
       "\n",
       "                                                 url  notes  \n",
       "0  https://www.aphlis.net/en/data/tables/value-ch...    NaN  \n",
       "1  https://www.aphlis.net/en/data/tables/value-ch...    NaN  \n",
       "2  https://www.aphlis.net/en/data/tables/value-ch...    NaN  \n",
       "3  https://www.aphlis.net/en/data/tables/value-ch...    NaN  \n",
       "4  https://www.aphlis.net/en/data/tables/value-ch...    NaN  \n",
       "5  https://www.aphlis.net/en/data/tables/value-ch...    NaN  \n",
       "6  https://www.aphlis.net/en/data/tables/value-ch...    NaN  \n",
       "7  https://www.aphlis.net/en/data/tables/value-ch...    NaN  \n",
       "8  https://www.aphlis.net/en/data/tables/value-ch...    NaN  \n",
       "9  https://www.aphlis.net/en/data/tables/value-ch...    NaN  "
      ]
     },
     "execution_count": 1,
     "metadata": {},
     "output_type": "execute_result"
    }
   ],
   "source": [
    "import pandas as pd\n",
    "import matplotlib.pyplot as plt\n",
    "import warnings\n",
    "\n",
    "warnings.filterwarnings('ignore')\n",
    "\n",
    "df = pd.read_csv('../Datasets/fao_waste.csv')\n",
    "df.head(10)"
   ]
  },
  {
   "cell_type": "code",
   "execution_count": 2,
   "id": "d2fff500",
   "metadata": {},
   "outputs": [
    {
     "name": "stdout",
     "output_type": "stream",
     "text": [
      "<class 'pandas.core.frame.DataFrame'>\n",
      "RangeIndex: 95 entries, 0 to 94\n",
      "Data columns (total 18 columns):\n",
      " #   Column                    Non-Null Count  Dtype  \n",
      "---  ------                    --------------  -----  \n",
      " 0   m49_code                  95 non-null     int64  \n",
      " 1   country                   95 non-null     object \n",
      " 2   region                    0 non-null      float64\n",
      " 3   cpc_code                  95 non-null     int64  \n",
      " 4   commodity                 95 non-null     object \n",
      " 5   year                      95 non-null     int64  \n",
      " 6   loss_percentage           95 non-null     float64\n",
      " 7   loss_percentage_original  95 non-null     float64\n",
      " 8   loss_quantity             0 non-null      float64\n",
      " 9   activity                  95 non-null     object \n",
      " 10  food_supply_stage         75 non-null     object \n",
      " 11  treatment                 0 non-null      float64\n",
      " 12  cause_of_loss             0 non-null      float64\n",
      " 13  sample_size               0 non-null      float64\n",
      " 14  method_data_collection    95 non-null     object \n",
      " 15  reference                 0 non-null      float64\n",
      " 16  url                       95 non-null     object \n",
      " 17  notes                     0 non-null      float64\n",
      "dtypes: float64(9), int64(3), object(6)\n",
      "memory usage: 13.5+ KB\n"
     ]
    }
   ],
   "source": [
    "df.info()"
   ]
  },
  {
   "cell_type": "code",
   "execution_count": 2,
   "id": "6a717f84",
   "metadata": {},
   "outputs": [],
   "source": [
    "columns_interest = ['country', 'commodity', 'year','loss_percentage','activity']\n",
    "food_waste = df[columns_interest]"
   ]
  },
  {
   "cell_type": "code",
   "execution_count": 3,
   "id": "0551a2c4",
   "metadata": {},
   "outputs": [
    {
     "name": "stdout",
     "output_type": "stream",
     "text": [
      "country : ['Nigeria']\n",
      "commodity : ['Maize (corn)' 'Rice' 'Sorghum' 'Millet']\n",
      "year : [2021 2020 2019 2018 2017]\n",
      "loss_percentage : [2.37259  4.58573  6.42     4.       1.32     2.5      4.40333  3.13714\n",
      " 0.980316 1.25     3.6      2.59295  4.55     2.16667  3.5      2.\n",
      " 1.10317  0.793649 4.71632  2.37295  0.931262 2.60406  1.31595  0.851044\n",
      " 4.71879  2.37289  0.930734 2.60477  0.851228 1.31663 ]\n",
      "activity : ['Transportation' 'Storage' 'Drying, Harvesting' 'Drying'\n",
      " 'Shelling, Threshing' 'Winnowing']\n"
     ]
    }
   ],
   "source": [
    "for i in food_waste.columns:\n",
    "    print(f'{i} : {food_waste[i].unique()}')"
   ]
  },
  {
   "cell_type": "code",
   "execution_count": 4,
   "id": "83862008",
   "metadata": {},
   "outputs": [],
   "source": [
    "# Removing drying as its repeated and just drying only affects maize though the other are traditionally dried. \n",
    "# Will be taking \"drying, harvesting\" as drying.\n",
    "\n",
    "food_waste['activity'] = food_waste['activity'].replace('Drying',None)\n",
    "food_waste = food_waste.dropna()"
   ]
  },
  {
   "cell_type": "markdown",
   "id": "169be91e",
   "metadata": {},
   "source": [
    "## Loss over time"
   ]
  },
  {
   "cell_type": "code",
   "execution_count": 6,
   "id": "55d6ef09",
   "metadata": {},
   "outputs": [
    {
     "data": {
      "text/html": [
       "<div>\n",
       "<style scoped>\n",
       "    .dataframe tbody tr th:only-of-type {\n",
       "        vertical-align: middle;\n",
       "    }\n",
       "\n",
       "    .dataframe tbody tr th {\n",
       "        vertical-align: top;\n",
       "    }\n",
       "\n",
       "    .dataframe thead th {\n",
       "        text-align: right;\n",
       "    }\n",
       "</style>\n",
       "<table border=\"1\" class=\"dataframe\">\n",
       "  <thead>\n",
       "    <tr style=\"text-align: right;\">\n",
       "      <th></th>\n",
       "      <th>year</th>\n",
       "      <th>loss_percentage</th>\n",
       "    </tr>\n",
       "  </thead>\n",
       "  <tbody>\n",
       "    <tr>\n",
       "      <th>0</th>\n",
       "      <td>2017</td>\n",
       "      <td>12.443886</td>\n",
       "    </tr>\n",
       "    <tr>\n",
       "      <th>1</th>\n",
       "      <td>2018</td>\n",
       "      <td>12.443886</td>\n",
       "    </tr>\n",
       "    <tr>\n",
       "      <th>2</th>\n",
       "      <td>2019</td>\n",
       "      <td>12.535545</td>\n",
       "    </tr>\n",
       "    <tr>\n",
       "      <th>3</th>\n",
       "      <td>2020</td>\n",
       "      <td>12.534681</td>\n",
       "    </tr>\n",
       "    <tr>\n",
       "      <th>4</th>\n",
       "      <td>2021</td>\n",
       "      <td>12.443886</td>\n",
       "    </tr>\n",
       "  </tbody>\n",
       "</table>\n",
       "</div>"
      ],
      "text/plain": [
       "   year  loss_percentage\n",
       "0  2017        12.443886\n",
       "1  2018        12.443886\n",
       "2  2019        12.535545\n",
       "3  2020        12.534681\n",
       "4  2021        12.443886"
      ]
     },
     "metadata": {},
     "output_type": "display_data"
    }
   ],
   "source": [
    "loss_by_time = food_waste.groupby('year')['loss_percentage'].sum()/4\n",
    "loss_by_time = pd.DataFrame(loss_by_time).reset_index()\n",
    "display(loss_by_time)"
   ]
  },
  {
   "cell_type": "code",
   "execution_count": 7,
   "id": "b31668b2",
   "metadata": {},
   "outputs": [
    {
     "data": {
      "text/plain": [
       "(0.0, 20.0)"
      ]
     },
     "execution_count": 7,
     "metadata": {},
     "output_type": "execute_result"
    },
    {
     "data": {
      "image/png": "[encoded data removed]",
      "text/plain": [
       "<Figure size 640x480 with 1 Axes>"
      ]
     },
     "metadata": {},
     "output_type": "display_data"
    }
   ],
   "source": [
    "import seaborn as sns\n",
    "\n",
    "sns.lineplot(data=loss_by_time,x='year',y='loss_percentage')\n",
    "plt.ylim(0,20)"
   ]
  },
  {
   "cell_type": "markdown",
   "id": "ea941a3a",
   "metadata": {},
   "source": [
    "## Loss by commodity"
   ]
  },
  {
   "cell_type": "code",
   "execution_count": 8,
   "id": "264ff8a4",
   "metadata": {},
   "outputs": [
    {
     "data": {
      "text/html": [
       "<div>\n",
       "<style scoped>\n",
       "    .dataframe tbody tr th:only-of-type {\n",
       "        vertical-align: middle;\n",
       "    }\n",
       "\n",
       "    .dataframe tbody tr th {\n",
       "        vertical-align: top;\n",
       "    }\n",
       "\n",
       "    .dataframe thead th {\n",
       "        text-align: right;\n",
       "    }\n",
       "</style>\n",
       "<table border=\"1\" class=\"dataframe\">\n",
       "  <thead>\n",
       "    <tr style=\"text-align: right;\">\n",
       "      <th></th>\n",
       "      <th>commodity</th>\n",
       "      <th>loss_percentage</th>\n",
       "    </tr>\n",
       "  </thead>\n",
       "  <tbody>\n",
       "    <tr>\n",
       "      <th>0</th>\n",
       "      <td>Maize (corn)</td>\n",
       "      <td>14.751182</td>\n",
       "    </tr>\n",
       "    <tr>\n",
       "      <th>3</th>\n",
       "      <td>Sorghum</td>\n",
       "      <td>12.914206</td>\n",
       "    </tr>\n",
       "    <tr>\n",
       "      <th>2</th>\n",
       "      <td>Rice</td>\n",
       "      <td>12.251059</td>\n",
       "    </tr>\n",
       "    <tr>\n",
       "      <th>1</th>\n",
       "      <td>Millet</td>\n",
       "      <td>10.005062</td>\n",
       "    </tr>\n",
       "  </tbody>\n",
       "</table>\n",
       "</div>"
      ],
      "text/plain": [
       "      commodity  loss_percentage\n",
       "0  Maize (corn)        14.751182\n",
       "3       Sorghum        12.914206\n",
       "2          Rice        12.251059\n",
       "1        Millet        10.005062"
      ]
     },
     "metadata": {},
     "output_type": "display_data"
    }
   ],
   "source": [
    "loss_by_commodity = pd.DataFrame(food_waste.groupby(['commodity'])['loss_percentage'].sum()/5).reset_index().sort_values('loss_percentage',ascending=False)\n",
    "display(loss_by_commodity)"
   ]
  },
  {
   "cell_type": "code",
   "execution_count": 9,
   "id": "f7b4afda",
   "metadata": {},
   "outputs": [
    {
     "data": {
      "text/plain": [
       "<Axes: xlabel='commodity', ylabel='loss_percentage'>"
      ]
     },
     "execution_count": 9,
     "metadata": {},
     "output_type": "execute_result"
    },
    {
     "data": {
      "image/png": "[encoded data removed]",
      "text/plain": [
       "<Figure size 640x480 with 1 Axes>"
      ]
     },
     "metadata": {},
     "output_type": "display_data"
    }
   ],
   "source": [
    "sns.barplot(data=loss_by_commodity,x='commodity',y='loss_percentage')"
   ]
  },
  {
   "cell_type": "markdown",
   "id": "60e4edfc",
   "metadata": {},
   "source": [
    "Significant loss recorded with maize compared to the rest."
   ]
  },
  {
   "cell_type": "code",
   "execution_count": 6,
   "id": "2c6aa0c7",
   "metadata": {},
   "outputs": [],
   "source": [
    "import seaborn as sns"
   ]
  },
  {
   "cell_type": "markdown",
   "id": "b27d8ab0",
   "metadata": {},
   "source": [
    "## Loss by activity"
   ]
  },
  {
   "cell_type": "code",
   "execution_count": 9,
   "id": "0d05c1dd",
   "metadata": {},
   "outputs": [
    {
     "data": {
      "text/html": [
       "<div>\n",
       "<style scoped>\n",
       "    .dataframe tbody tr th:only-of-type {\n",
       "        vertical-align: middle;\n",
       "    }\n",
       "\n",
       "    .dataframe tbody tr th {\n",
       "        vertical-align: top;\n",
       "    }\n",
       "\n",
       "    .dataframe thead th {\n",
       "        text-align: right;\n",
       "    }\n",
       "</style>\n",
       "<table border=\"1\" class=\"dataframe\">\n",
       "  <thead>\n",
       "    <tr style=\"text-align: right;\">\n",
       "      <th></th>\n",
       "      <th>activity</th>\n",
       "      <th>loss_percentage</th>\n",
       "    </tr>\n",
       "  </thead>\n",
       "  <tbody>\n",
       "    <tr>\n",
       "      <th>0</th>\n",
       "      <td>Drying, Harvesting</td>\n",
       "      <td>18.873330</td>\n",
       "    </tr>\n",
       "    <tr>\n",
       "      <th>1</th>\n",
       "      <td>Shelling, Threshing</td>\n",
       "      <td>10.057140</td>\n",
       "    </tr>\n",
       "    <tr>\n",
       "      <th>2</th>\n",
       "      <td>Storage</td>\n",
       "      <td>9.013229</td>\n",
       "    </tr>\n",
       "    <tr>\n",
       "      <th>3</th>\n",
       "      <td>Transportation</td>\n",
       "      <td>8.289392</td>\n",
       "    </tr>\n",
       "    <tr>\n",
       "      <th>4</th>\n",
       "      <td>Winnowing</td>\n",
       "      <td>3.688418</td>\n",
       "    </tr>\n",
       "  </tbody>\n",
       "</table>\n",
       "</div>"
      ],
      "text/plain": [
       "              activity  loss_percentage\n",
       "0   Drying, Harvesting        18.873330\n",
       "1  Shelling, Threshing        10.057140\n",
       "2              Storage         9.013229\n",
       "3       Transportation         8.289392\n",
       "4            Winnowing         3.688418"
      ]
     },
     "metadata": {},
     "output_type": "display_data"
    },
    {
     "data": {
      "image/png": "[encoded data removed]",
      "text/plain": [
       "<Figure size 640x480 with 1 Axes>"
      ]
     },
     "metadata": {},
     "output_type": "display_data"
    }
   ],
   "source": [
    "loss_by_activity = pd.DataFrame((food_waste.groupby(['activity'])['loss_percentage'].sum()/5).reset_index().sort_values('loss_percentage',ascending=False))\n",
    "display(loss_by_activity)\n",
    "\n",
    "sns.barplot(data=loss_by_activity,y='activity',x='loss_percentage',orient='h')\n",
    "plt.show()"
   ]
  },
  {
   "cell_type": "markdown",
   "id": "8f557823",
   "metadata": {},
   "source": [
    "We can see most loss happens during drying on avg in the past five years. "
   ]
  },
  {
   "cell_type": "code",
   "execution_count": 11,
   "id": "8db48028",
   "metadata": {},
   "outputs": [
    {
     "data": {
      "image/png": "[encoded data removed]",
      "text/plain": [
       "<Figure size 1000x600 with 1 Axes>"
      ]
     },
     "metadata": {},
     "output_type": "display_data"
    }
   ],
   "source": [
    "food_loss_method_crop = pd.DataFrame(food_waste.groupby(['commodity','activity'])['loss_percentage'].sum()/5).reset_index()\n",
    "\n",
    "# Pivot for stacked bar\n",
    "pivot_df = food_loss_method_crop.pivot(index=\"activity\", columns=\"commodity\", values=\"loss_percentage\").fillna(0)\n",
    "\n",
    "# Plot\n",
    "ax = pivot_df.plot(kind=\"bar\", stacked=True, figsize=(10, 6), colormap=\"Set3\")\n",
    "plt.ylabel(\"Average Loss Percentage (2017–2021)\")\n",
    "plt.title(\"Average Post-Harvest Loss by Activity and Commodity\")\n",
    "plt.xticks(rotation=45, ha=\"right\")\n",
    "plt.legend(title=\"Commodity\", bbox_to_anchor=(1.05, 1), loc=\"upper left\")\n",
    "plt.tight_layout()\n",
    "\n",
    "plt.show()"
   ]
  },
  {
   "cell_type": "markdown",
   "id": "d2e57d2a",
   "metadata": {},
   "source": [
    "We can see for bla most loss happens during drying after harvest. taking a closer look at corn and sorghum we see signigicant loss during stage during the storage stage. "
   ]
  }
 ],
 "metadata": {
  "kernelspec": {
   "display_name": "Python 3 (ipykernel)",
   "language": "python",
   "name": "python3"
  },
  "language_info": {
   "codemirror_mode": {
    "name": "ipython",
    "version": 3
   },
   "file_extension": ".py",
   "mimetype": "text/x-python",
   "name": "python",
   "nbconvert_exporter": "python",
   "pygments_lexer": "ipython3",
   "version": "3.10.13"
  }
 },
 "nbformat": 4,
 "nbformat_minor": 5
}
